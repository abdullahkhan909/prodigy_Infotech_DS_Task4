{
  "nbformat": 4,
  "nbformat_minor": 0,
  "metadata": {
    "colab": {
      "provenance": []
    },
    "kernelspec": {
      "name": "python3",
      "display_name": "Python 3"
    },
    "language_info": {
      "name": "python"
    }
  },
  "cells": [
    {
      "cell_type": "markdown",
      "source": [
        "**Load the dataset**"
      ],
      "metadata": {
        "id": "Bg8XXRXlZEkR"
      }
    },
    {
      "cell_type": "code",
      "source": [
        "import pandas as pd\n",
        "\n",
        "\n",
        "training_data_path = 'twitter_training.csv'\n",
        "data = pd.read_csv(training_data_path)\n",
        "print(data.head())\n",
        "print(data.columns)\n"
      ],
      "metadata": {
        "colab": {
          "base_uri": "https://localhost:8080/"
        },
        "id": "HLqW4gDZQYEY",
        "outputId": "890a6bea-5b26-408c-f119-3ade3f632ba5"
      },
      "execution_count": 29,
      "outputs": [
        {
          "output_type": "stream",
          "name": "stdout",
          "text": [
            "   2401  Borderlands  Positive  \\\n",
            "0  2401  Borderlands  Positive   \n",
            "1  2401  Borderlands  Positive   \n",
            "2  2401  Borderlands  Positive   \n",
            "3  2401  Borderlands  Positive   \n",
            "4  2401  Borderlands  Positive   \n",
            "\n",
            "  im getting on borderlands and i will murder you all ,  \n",
            "0  I am coming to the borders and I will kill you...     \n",
            "1  im getting on borderlands and i will kill you ...     \n",
            "2  im coming on borderlands and i will murder you...     \n",
            "3  im getting on borderlands 2 and i will murder ...     \n",
            "4  im getting into borderlands and i can murder y...     \n",
            "Index(['2401', 'Borderlands', 'Positive',\n",
            "       'im getting on borderlands and i will murder you all ,'],\n",
            "      dtype='object')\n"
          ]
        }
      ]
    },
    {
      "cell_type": "markdown",
      "source": [
        "# **Assign the names to coulmns and check NaN values**"
      ],
      "metadata": {
        "id": "rQ3j1FL6jgmB"
      }
    },
    {
      "cell_type": "code",
      "source": [
        "column_names = [ 'id', 'topic', 'sentiment', 'text']\n",
        "data = pd.read_csv('twitter_training.csv',names = column_names)\n",
        "data.drop('id',axis = 1,inplace=True)"
      ],
      "metadata": {
        "id": "wrLp9JpQaySf"
      },
      "execution_count": 30,
      "outputs": []
    },
    {
      "cell_type": "code",
      "source": [
        "data['text'].fillna('', inplace=True)"
      ],
      "metadata": {
        "id": "MqXL4R7mbZ7a"
      },
      "execution_count": 31,
      "outputs": []
    },
    {
      "cell_type": "code",
      "source": [
        "import nltk\n",
        "\n",
        "# Download the stopwords corpus\n",
        "nltk.download('stopwords')\n",
        "\n",
        "# Download other necessary NLTK data\n",
        "nltk.download('punkt')\n",
        "nltk.download('wordnet')"
      ],
      "metadata": {
        "colab": {
          "base_uri": "https://localhost:8080/"
        },
        "id": "NOfBZSYWbrpZ",
        "outputId": "374c7109-1e96-482e-c69b-84d588c7d27e"
      },
      "execution_count": 32,
      "outputs": [
        {
          "output_type": "stream",
          "name": "stderr",
          "text": [
            "[nltk_data] Downloading package stopwords to /root/nltk_data...\n",
            "[nltk_data]   Package stopwords is already up-to-date!\n",
            "[nltk_data] Downloading package punkt to /root/nltk_data...\n",
            "[nltk_data]   Package punkt is already up-to-date!\n",
            "[nltk_data] Downloading package wordnet to /root/nltk_data...\n",
            "[nltk_data]   Package wordnet is already up-to-date!\n"
          ]
        },
        {
          "output_type": "execute_result",
          "data": {
            "text/plain": [
              "True"
            ]
          },
          "metadata": {},
          "execution_count": 32
        }
      ]
    },
    {
      "cell_type": "markdown",
      "source": [
        "# **Preprocess the dataset**"
      ],
      "metadata": {
        "id": "m-el9_qmZYj6"
      }
    },
    {
      "cell_type": "code",
      "source": [
        "import re\n",
        "from nltk.corpus import stopwords\n",
        "from nltk.tokenize import word_tokenize\n",
        "from nltk.stem import WordNetLemmatizer\n",
        "\n",
        "\n",
        "text_column = 'text'  # Replace with the actual column name\n",
        "\n",
        "def clean_text(text):\n",
        "    text = re.sub(r'http\\S+', '', text)\n",
        "    text = re.sub(r'@\\w+', '', text)\n",
        "    text = re.sub(r'#\\w+', '', text)\n",
        "    text = re.sub(r'\\d+', '', text)\n",
        "    text = re.sub(r'\\W+', ' ', text)\n",
        "    text = text.lower()\n",
        "    return text\n",
        "\n",
        "#cleaning function\n",
        "data['cleaned_text'] = data[text_column].apply(clean_text)\n",
        "\n",
        "# Tokenize and remove stop words\n",
        "stop_words = set(stopwords.words('english'))\n",
        "data['tokens'] = data['cleaned_text'].apply(lambda x: [word for word in word_tokenize(x) if word not in stop_words])\n",
        "\n",
        "# Lemmatize the tokens\n",
        "lemmatizer = WordNetLemmatizer()\n",
        "data['lemmatized_tokens'] = data['tokens'].apply(lambda x: [lemmatizer.lemmatize(word) for word in x])\n",
        "\n",
        "print(data.head())\n"
      ],
      "metadata": {
        "colab": {
          "base_uri": "https://localhost:8080/"
        },
        "id": "v6Lo2sXNRZAk",
        "outputId": "dc5f9026-14cd-4008-fe5d-a348b10f3799"
      },
      "execution_count": 33,
      "outputs": [
        {
          "output_type": "stream",
          "name": "stdout",
          "text": [
            "         topic sentiment                                               text  \\\n",
            "0  Borderlands  Positive  im getting on borderlands and i will murder yo...   \n",
            "1  Borderlands  Positive  I am coming to the borders and I will kill you...   \n",
            "2  Borderlands  Positive  im getting on borderlands and i will kill you ...   \n",
            "3  Borderlands  Positive  im coming on borderlands and i will murder you...   \n",
            "4  Borderlands  Positive  im getting on borderlands 2 and i will murder ...   \n",
            "\n",
            "                                        cleaned_text  \\\n",
            "0  im getting on borderlands and i will murder yo...   \n",
            "1  i am coming to the borders and i will kill you...   \n",
            "2  im getting on borderlands and i will kill you ...   \n",
            "3  im coming on borderlands and i will murder you...   \n",
            "4  im getting on borderlands and i will murder yo...   \n",
            "\n",
            "                               tokens                  lemmatized_tokens  \n",
            "0  [im, getting, borderlands, murder]  [im, getting, borderland, murder]  \n",
            "1             [coming, borders, kill]             [coming, border, kill]  \n",
            "2    [im, getting, borderlands, kill]    [im, getting, borderland, kill]  \n",
            "3   [im, coming, borderlands, murder]   [im, coming, borderland, murder]  \n",
            "4  [im, getting, borderlands, murder]  [im, getting, borderland, murder]  \n"
          ]
        }
      ]
    },
    {
      "cell_type": "markdown",
      "source": [
        "# **Perform Sentiment Analysis**"
      ],
      "metadata": {
        "id": "HUClTSbmXfVd"
      }
    },
    {
      "cell_type": "code",
      "source": [
        "from textblob import TextBlob\n",
        "\n",
        "\n",
        "def get_sentiment(text):\n",
        "    analysis = TextBlob(text)\n",
        "    if analysis.sentiment.polarity > 0:\n",
        "        return 'positive'\n",
        "    elif analysis.sentiment.polarity < 0:\n",
        "        return 'negative'\n",
        "    else:\n",
        "        return 'neutral'\n",
        "\n",
        "# Apply the sentiment function if not already labeled\n",
        "#if 'sentiment' not in data.columns:\n",
        "#    data['sentiment'] = data['cleaned_text'].apply(get_sentiment)\n",
        "\n",
        "print(data['sentiment'].value_counts())\n"
      ],
      "metadata": {
        "colab": {
          "base_uri": "https://localhost:8080/"
        },
        "id": "hOhzQWU7RnBo",
        "outputId": "228576bc-2755-460d-c2b7-a47d6a28c30a"
      },
      "execution_count": 34,
      "outputs": [
        {
          "output_type": "stream",
          "name": "stdout",
          "text": [
            "sentiment\n",
            "Negative      22542\n",
            "Positive      20832\n",
            "Neutral       18318\n",
            "Irrelevant    12990\n",
            "Name: count, dtype: int64\n"
          ]
        }
      ]
    },
    {
      "cell_type": "markdown",
      "source": [
        "# **Visualize the analysis**"
      ],
      "metadata": {
        "id": "R5PkFWDTd9Ml"
      }
    },
    {
      "cell_type": "code",
      "source": [
        "import matplotlib.pyplot as plt\n",
        "import seaborn as sns\n",
        "\n",
        "# Count plot for sentiments\n",
        "plt.figure(figsize=(10, 6))\n",
        "sns.countplot(x='sentiment', data=data)\n",
        "plt.title('Sentiment Analysis of Social Media Data')\n",
        "plt.xlabel('Sentiment')\n",
        "plt.ylabel('Count')\n",
        "plt.show()\n",
        "\n"
      ],
      "metadata": {
        "colab": {
          "base_uri": "https://localhost:8080/",
          "height": 564
        },
        "id": "9d0TUSz7Rp43",
        "outputId": "45155fa5-b9ca-454d-9751-dd6529d70152"
      },
      "execution_count": 35,
      "outputs": [
        {
          "output_type": "display_data",
          "data": {
            "text/plain": [
              "<Figure size 1000x600 with 1 Axes>"
            ],
            "image/png": "[encoded data removed]"
          },
          "metadata": {}
        }
      ]
    }
  ]
}